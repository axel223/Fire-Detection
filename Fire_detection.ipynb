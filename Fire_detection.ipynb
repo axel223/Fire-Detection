{
  "nbformat": 4,
  "nbformat_minor": 0,
  "metadata": {
    "colab": {
      "provenance": []
    },
    "kernelspec": {
      "name": "python3",
      "display_name": "Python 3"
    },
    "language_info": {
      "name": "python"
    }
  },
  "cells": [
    {
      "cell_type": "markdown",
      "metadata": {
        "id": "wAVKqLnsrEV3"
      },
      "source": [
        "```\n",
        "Group: 3\n",
        "Topic: Fire Detection Using Multi Color Space and Background Modeling\n",
        "Group Members:\n",
        "      IIT2018047\n",
        "      IIT2018050\n",
        "      IIT2018054\n",
        "```\n",
        "\n",
        "\n"
      ]
    },
    {
      "cell_type": "markdown",
      "metadata": {
        "id": "g4_kZMpzGb7Y"
      },
      "source": [
        "Imports"
      ]
    },
    {
      "cell_type": "code",
      "metadata": {
        "id": "0lnHVIwLFR7K"
      },
      "source": [
        "import numpy as np\n",
        "import cv2"
      ],
      "execution_count": null,
      "outputs": []
    },
    {
      "cell_type": "markdown",
      "metadata": {
        "id": "8G8wW6LWGg90"
      },
      "source": [
        "Global Var"
      ]
    },
    {
      "cell_type": "code",
      "metadata": {
        "id": "vvJ8dymiGjYB"
      },
      "source": [
        "# global const for rectangle\n",
        "min_x, min_y = 100000, 100000\n",
        "max_x = max_y = 0\n",
        "\n",
        "# global const for intensity\n",
        "FP = 0\n",
        "lastFP = 0\n",
        "\n",
        "# font\n",
        "font = cv2.FONT_HERSHEY_SIMPLEX\n",
        "\n",
        "# org\n",
        "org = (20, 210)\n",
        "\n",
        "# fontScale\n",
        "fontScale = 0.5\n",
        "\n",
        "# Blue color in BGR\n",
        "color = (255, 0, 0)\n",
        "\n",
        "# Line thickness of 2 px\n",
        "thickness = 2"
      ],
      "execution_count": null,
      "outputs": []
    },
    {
      "cell_type": "markdown",
      "metadata": {
        "id": "0WWhqToFGmDW"
      },
      "source": [
        "Image enhancing"
      ]
    },
    {
      "cell_type": "code",
      "metadata": {
        "id": "FZTWxd6wGpOU"
      },
      "source": [
        "def enhancing(image):\n",
        "    image[:, :, 0] = 255 * pow(image[:, :, 0] / 255, 0.9)\n",
        "    image[:, :, 1] = 255 * pow(image[:, :, 1] / 255, 0.7)\n",
        "    image[:, :, 2] = 255 * pow(image[:, :, 2] / 255, 1.5)\n",
        "\n",
        "    return image"
      ],
      "execution_count": null,
      "outputs": []
    },
    {
      "cell_type": "markdown",
      "metadata": {
        "id": "RpelQVnNHTQv"
      },
      "source": [
        "Fire Pixel Detection"
      ]
    },
    {
      "cell_type": "code",
      "metadata": {
        "id": "0sYm-x9wHmqy"
      },
      "source": [
        "def alg(image, frame_img, fg_bg):\n",
        "    global max_x, max_y, min_x, min_y, FP\n",
        "    redTh = 135\n",
        "    saturationTh = 55\n",
        "\n",
        "    lab = cv2.cvtColor(image, cv2.COLOR_BGR2Lab)\n",
        "\n",
        "    B = image[:, :, 0]\n",
        "    G = image[:, :, 1]\n",
        "    R = image[:, :, 2]\n",
        "\n",
        "    L = lab[:, :, 0]\n",
        "    a = lab[:, :, 1]\n",
        "    b = lab[:, :, 2]\n",
        "\n",
        "    S = cv2.cvtColor(image, cv2.COLOR_BGR2HSV)[:, :, 1]\n",
        "\n",
        "    R_mean = np.mean(R)\n",
        "\n",
        "    # Find the mean of the L* A* B* values\n",
        "    L_mean, a_mean, b_mean, x = cv2.mean(lab)\n",
        "\n",
        "    # Check all the Rules of the Algorithm for RGB\n",
        "    fire_area_rgb = np.array(np.where(R > R_mean,\n",
        "                                      np.where(R > G,\n",
        "                                               np.where(G > B,\n",
        "                                                        np.where(S > (255 - R) * saturationTh / redTh, 255,\n",
        "                                                                 0), 0), 0), 0))\n",
        "\n",
        "    # Check all the Rules of the Algorithm for Lab\n",
        "    fire_area_lab = np.array(np.where(L >= L_mean,\n",
        "                                      np.where(a >= a_mean,\n",
        "                                               np.where(b >= b_mean,\n",
        "                                                        np.where(b >= a, 255,\n",
        "                                                                 0), 0), 0), 0))\n",
        "\n",
        "    # Removing Background\n",
        "    fgmask = fg_bg.apply(frame_img)\n",
        "\n",
        "    # counting fire pixels\n",
        "    for i in range(image.shape[0]):\n",
        "        for j in range(image.shape[1]):\n",
        "            if (fire_area_rgb[i][j] != 0 or fire_area_lab[i][j] != 0) and fgmask[i][j] != 0:\n",
        "                max_x = max(max_x, j)\n",
        "                max_y = max(max_y, i)\n",
        "                min_x = min(min_x, j)\n",
        "                min_y = min(min_y, i)\n",
        "                FP += 1\n"
      ],
      "execution_count": null,
      "outputs": []
    },
    {
      "cell_type": "markdown",
      "metadata": {
        "id": "cYS0EQ7fHoiH"
      },
      "source": [
        "to Find intensity"
      ]
    },
    {
      "cell_type": "code",
      "metadata": {
        "id": "RqXu5ZabHsbn"
      },
      "source": [
        "def rateOfGrowth():\n",
        "    global FP, lastFP\n",
        "    rate = (FP - lastFP) / 1\n",
        "    lastFP = FP\n",
        "    FP = 0\n",
        "    return rate"
      ],
      "execution_count": null,
      "outputs": []
    },
    {
      "cell_type": "markdown",
      "metadata": {
        "id": "cpkqlPL4HvTW"
      },
      "source": [
        "main function"
      ]
    },
    {
      "cell_type": "code",
      "metadata": {
        "id": "NJfL6QYHH9wJ"
      },
      "source": [
        "if __name__ == '__main__':\n",
        "    cap = cv2.VideoCapture(\"barbeq.avi\")\n",
        "    fgbg = cv2.createBackgroundSubtractorMOG2(detectShadows=False)\n",
        "\n",
        "    if cap.isOpened():\n",
        "        width = int(cap.get(3))\n",
        "        height = int(cap.get(4))\n",
        "\n",
        "        # Define the codec and create VideoWriter object\n",
        "        fourcc = cv2.VideoWriter_fourcc(*'XVID')\n",
        "        out = cv2.VideoWriter('output.avi', fourcc, 20.0, (width, height))\n",
        "\n",
        "    while cap.isOpened():\n",
        "        ret, frame = cap.read()\n",
        "        if ret:\n",
        "\n",
        "            # for each time max and min\n",
        "            min_x, min_y = 100000, 100000\n",
        "            max_x = max_y = 0\n",
        "\n",
        "            enhanced_image = enhancing(frame.copy())\n",
        "\n",
        "            output = alg(enhanced_image, frame, fgbg)\n",
        "            cv2.rectangle(frame, (min_x, min_y), (max_x, max_y), (255, 0, 0), 2)\n",
        "\n",
        "            # Using cv2.putText() method\n",
        "            frame = cv2.putText(frame, str(rateOfGrowth()), org, font, fontScale, color, thickness, cv2.LINE_AA)\n",
        "\n",
        "            # write the frame\n",
        "            out.write(frame)\n",
        "\n",
        "        else:\n",
        "            break\n",
        "\n",
        "    # Release everything if job is finished\n",
        "    cap.release()\n",
        "    out.release()\n",
        "    cv2.destroyAllWindows()"
      ],
      "execution_count": null,
      "outputs": []
    }
  ]
}